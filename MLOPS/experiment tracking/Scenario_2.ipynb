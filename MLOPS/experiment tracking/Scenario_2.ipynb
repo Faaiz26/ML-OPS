{
 "cells": [
  {
   "cell_type": "markdown",
   "metadata": {},
   "source": [
    "Scenario 2 : There is a cross-functional team  team with one data scientist working on ML model."
   ]
  },
  {
   "cell_type": "markdown",
   "metadata": {},
   "source": [
    "MLFLOW setup:\n",
    "tracking server : yes, local server,\n",
    "backend store : sqlite database,\n",
    "artifacte store : local file system."
   ]
  },
  {
   "cell_type": "markdown",
   "metadata": {},
   "source": [
    "To run this example we need to launch the mlflow server locally by running the following command in the terminal:\n",
    "mlflow server --backend-stoe-uri sqlite:///backend.db"
   ]
  },
  {
   "cell_type": "code",
   "execution_count": 1,
   "metadata": {},
   "outputs": [],
   "source": [
    "import mlflow"
   ]
  },
  {
   "cell_type": "code",
   "execution_count": 2,
   "metadata": {},
   "outputs": [],
   "source": [
    "mlflow.set_tracking_uri(\"http://127.0.0.1:5000\")"
   ]
  },
  {
   "cell_type": "code",
   "execution_count": 4,
   "metadata": {},
   "outputs": [
    {
     "name": "stdout",
     "output_type": "stream",
     "text": [
      "tracking URI : 'http://127.0.0.1:5000'\n"
     ]
    }
   ],
   "source": [
    "print(f\"tracking URI : '{mlflow.get_tracking_uri()}'\")"
   ]
  },
  {
   "cell_type": "code",
   "execution_count": 5,
   "metadata": {},
   "outputs": [
    {
     "data": {
      "text/plain": [
       "[<Experiment: artifact_location='mlflow-artifacts:/0', creation_time=1699188287542, experiment_id='0', last_update_time=1699188287542, lifecycle_stage='active', name='Default', tags={}>]"
      ]
     },
     "execution_count": 5,
     "metadata": {},
     "output_type": "execute_result"
    }
   ],
   "source": [
    "mlflow.search_experiments()"
   ]
  },
  {
   "cell_type": "code",
   "execution_count": 6,
   "metadata": {},
   "outputs": [
    {
     "name": "stderr",
     "output_type": "stream",
     "text": [
      "2023/11/05 18:20:25 INFO mlflow.tracking.fluent: Experiment with name 'my-experiment-1' does not exist. Creating a new experiment.\n"
     ]
    },
    {
     "name": "stdout",
     "output_type": "stream",
     "text": [
      "default artifacts URI : 'mlflow-artifacts:/1/b582972ba9ee4b749494d65d96190186/artifacts'\n"
     ]
    }
   ],
   "source": [
    "from sklearn.linear_model import LogisticRegression\n",
    "from sklearn.datasets import load_iris\n",
    "from sklearn.metrics import accuracy_score\n",
    "\n",
    "\n",
    "mlflow.set_experiment(\"my-experiment-1\")\n",
    "\n",
    "with mlflow.start_run():\n",
    "    X,y = load_iris(return_X_y = True)\n",
    "\n",
    "    params = {\"C\":0.1, \"random_state\": 42}\n",
    "    mlflow.log_params(params)\n",
    "\n",
    "    lr = LogisticRegression(**params).fit(X,y)\n",
    "    y_pred = lr.predict(X)\n",
    "\n",
    "    mlflow.log_metric(\"accuracy\", accuracy_score(y,y_pred))\n",
    "\n",
    "    mlflow.sklearn.log_model(lr,artifact_path = 'models')\n",
    "\n",
    "    print(f\"default artifacts URI : '{mlflow.get_artifact_uri()}'\")\n",
    "\n"
   ]
  },
  {
   "cell_type": "code",
   "execution_count": 7,
   "metadata": {},
   "outputs": [
    {
     "data": {
      "text/plain": [
       "[<Experiment: artifact_location='mlflow-artifacts:/1', creation_time=1699188625662, experiment_id='1', last_update_time=1699188625662, lifecycle_stage='active', name='my-experiment-1', tags={}>,\n",
       " <Experiment: artifact_location='mlflow-artifacts:/0', creation_time=1699188287542, experiment_id='0', last_update_time=1699188287542, lifecycle_stage='active', name='Default', tags={}>]"
      ]
     },
     "execution_count": 7,
     "metadata": {},
     "output_type": "execute_result"
    }
   ],
   "source": [
    "mlflow.search_experiments()"
   ]
  },
  {
   "cell_type": "markdown",
   "metadata": {},
   "source": [
    "Interacting with Model Registry"
   ]
  },
  {
   "cell_type": "code",
   "execution_count": 8,
   "metadata": {},
   "outputs": [],
   "source": [
    "from mlflow.tracking import MlflowClient\n",
    "\n",
    "client = MlflowClient(\"http://127.0.0.1:5000\")"
   ]
  },
  {
   "cell_type": "code",
   "execution_count": 12,
   "metadata": {},
   "outputs": [
    {
     "data": {
      "text/plain": [
       "[]"
      ]
     },
     "execution_count": 12,
     "metadata": {},
     "output_type": "execute_result"
    }
   ],
   "source": [
    "client.search_registered_models()"
   ]
  },
  {
   "cell_type": "code",
   "execution_count": 32,
   "metadata": {},
   "outputs": [
    {
     "name": "stderr",
     "output_type": "stream",
     "text": [
      "Registered model 'iris-classifier' already exists. Creating a new version of this model...\n"
     ]
    },
    {
     "ename": "RestException",
     "evalue": "RESOURCE_DOES_NOT_EXIST: Run with id=<Run: data=<RunData: metrics={'accuracy': 0.96}, params={'C': '0.1', 'random_state': '42'}, tags={'mlflow.log-model.history': '[{\"run_id\": \"b582972ba9ee4b749494d65d96190186\", '                             '\"artifact_path\": \"models\", \"utc_time_created\": '                             '\"2023-11-05 12:50:26.398302\", \"flavors\": '                             '{\"python_function\": {\"model_path\": \"model.pkl\", '                             '\"predict_fn\": \"predict\", \"loader_module\": '                             '\"mlflow.sklearn\", \"python_version\": \"3.9.18\", '                             '\"env\": {\"conda\": \"conda.yaml\", \"virtualenv\": '                             '\"python_env.yaml\"}}, \"sklearn\": '                             '{\"pickled_model\": \"model.pkl\", '                             '\"sklearn_version\": \"1.3.1\", '                             '\"serialization_format\": \"cloudpickle\", \"code\": '                             'null}}, \"model_uuid\": '                             '\"dcad6c017ce24558aef7bdbd7ec6e14f\", '                             '\"mlflow_version\": \"2.7.1\"}]', 'mlflow.runName': 'thundering-duck-407', 'mlflow.source.name': 'c:\\\\Users\\\\mohdf\\\\Anaconda3\\\\envs\\\\exp-tracking-env\\\\lib\\\\site-packages\\\\ipykernel_launcher.py', 'mlflow.source.type': 'LOCAL', 'mlflow.user': 'mohdf'}>, info=<RunInfo: artifact_uri='mlflow-artifacts: not found",
     "output_type": "error",
     "traceback": [
      "\u001b[1;31m---------------------------------------------------------------------------\u001b[0m",
      "\u001b[1;31mRestException\u001b[0m                             Traceback (most recent call last)",
      "\u001b[1;32mc:\\Users\\mohdf\\Anaconda3\\envs\\MLOPS\\experiment tracking\\Scenario_2.ipynb Cell 13\u001b[0m line \u001b[0;36m6\n\u001b[0;32m      <a href='vscode-notebook-cell:/c%3A/Users/mohdf/Anaconda3/envs/MLOPS/experiment%20tracking/Scenario_2.ipynb#X24sZmlsZQ%3D%3D?line=0'>1</a>\u001b[0m \u001b[39m#registring one model\u001b[39;00m\n\u001b[0;32m      <a href='vscode-notebook-cell:/c%3A/Users/mohdf/Anaconda3/envs/MLOPS/experiment%20tracking/Scenario_2.ipynb#X24sZmlsZQ%3D%3D?line=1'>2</a>\u001b[0m \n\u001b[0;32m      <a href='vscode-notebook-cell:/c%3A/Users/mohdf/Anaconda3/envs/MLOPS/experiment%20tracking/Scenario_2.ipynb#X24sZmlsZQ%3D%3D?line=2'>3</a>\u001b[0m \n\u001b[0;32m      <a href='vscode-notebook-cell:/c%3A/Users/mohdf/Anaconda3/envs/MLOPS/experiment%20tracking/Scenario_2.ipynb#X24sZmlsZQ%3D%3D?line=3'>4</a>\u001b[0m \u001b[39m#run_id = client.search_runs(experiment_id = '1')[0].run_id\u001b[39;00m\n\u001b[0;32m      <a href='vscode-notebook-cell:/c%3A/Users/mohdf/Anaconda3/envs/MLOPS/experiment%20tracking/Scenario_2.ipynb#X24sZmlsZQ%3D%3D?line=4'>5</a>\u001b[0m run_id \u001b[39m=\u001b[39m client\u001b[39m.\u001b[39msearch_runs(experiment_ids \u001b[39m=\u001b[39m \u001b[39m'\u001b[39m\u001b[39m1\u001b[39m\u001b[39m'\u001b[39m)[\u001b[39m0\u001b[39m]\n\u001b[1;32m----> <a href='vscode-notebook-cell:/c%3A/Users/mohdf/Anaconda3/envs/MLOPS/experiment%20tracking/Scenario_2.ipynb#X24sZmlsZQ%3D%3D?line=5'>6</a>\u001b[0m mlflow\u001b[39m.\u001b[39;49mregister_model(\n\u001b[0;32m      <a href='vscode-notebook-cell:/c%3A/Users/mohdf/Anaconda3/envs/MLOPS/experiment%20tracking/Scenario_2.ipynb#X24sZmlsZQ%3D%3D?line=6'>7</a>\u001b[0m     model_uri \u001b[39m=\u001b[39;49m \u001b[39mf\u001b[39;49m\u001b[39m\"\u001b[39;49m\u001b[39mruns:/\u001b[39;49m\u001b[39m{\u001b[39;49;00mrun_id\u001b[39m}\u001b[39;49;00m\u001b[39m/models\u001b[39;49m\u001b[39m\"\u001b[39;49m,\n\u001b[0;32m      <a href='vscode-notebook-cell:/c%3A/Users/mohdf/Anaconda3/envs/MLOPS/experiment%20tracking/Scenario_2.ipynb#X24sZmlsZQ%3D%3D?line=7'>8</a>\u001b[0m     name \u001b[39m=\u001b[39;49m \u001b[39m\"\u001b[39;49m\u001b[39miris-classifier\u001b[39;49m\u001b[39m\"\u001b[39;49m\n\u001b[0;32m      <a href='vscode-notebook-cell:/c%3A/Users/mohdf/Anaconda3/envs/MLOPS/experiment%20tracking/Scenario_2.ipynb#X24sZmlsZQ%3D%3D?line=8'>9</a>\u001b[0m )\n\u001b[0;32m     <a href='vscode-notebook-cell:/c%3A/Users/mohdf/Anaconda3/envs/MLOPS/experiment%20tracking/Scenario_2.ipynb#X24sZmlsZQ%3D%3D?line=9'>10</a>\u001b[0m \u001b[39m#print(run_id)\u001b[39;00m\n",
      "File \u001b[1;32mc:\\Users\\mohdf\\Anaconda3\\envs\\exp-tracking-env\\lib\\site-packages\\mlflow\\tracking\\_model_registry\\fluent.py:73\u001b[0m, in \u001b[0;36mregister_model\u001b[1;34m(model_uri, name, await_registration_for, tags)\u001b[0m\n\u001b[0;32m     17\u001b[0m \u001b[39mdef\u001b[39;00m \u001b[39mregister_model\u001b[39m(\n\u001b[0;32m     18\u001b[0m     model_uri,\n\u001b[0;32m     19\u001b[0m     name,\n\u001b[1;32m   (...)\u001b[0m\n\u001b[0;32m     22\u001b[0m     tags: Optional[Dict[\u001b[39mstr\u001b[39m, Any]] \u001b[39m=\u001b[39m \u001b[39mNone\u001b[39;00m,\n\u001b[0;32m     23\u001b[0m ) \u001b[39m-\u001b[39m\u001b[39m>\u001b[39m ModelVersion:\n\u001b[0;32m     24\u001b[0m \u001b[39m    \u001b[39m\u001b[39m\"\"\"\u001b[39;00m\n\u001b[0;32m     25\u001b[0m \u001b[39m    Create a new model version in model registry for the model files specified by ``model_uri``.\u001b[39;00m\n\u001b[0;32m     26\u001b[0m \u001b[39m    Note that this method assumes the model registry backend URI is the same as that of the\u001b[39;00m\n\u001b[1;32m   (...)\u001b[0m\n\u001b[0;32m     71\u001b[0m \u001b[39m        Version: 1\u001b[39;00m\n\u001b[0;32m     72\u001b[0m \u001b[39m    \"\"\"\u001b[39;00m\n\u001b[1;32m---> 73\u001b[0m     \u001b[39mreturn\u001b[39;00m _register_model(\n\u001b[0;32m     74\u001b[0m         model_uri\u001b[39m=\u001b[39;49mmodel_uri, name\u001b[39m=\u001b[39;49mname, await_registration_for\u001b[39m=\u001b[39;49mawait_registration_for, tags\u001b[39m=\u001b[39;49mtags\n\u001b[0;32m     75\u001b[0m     )\n",
      "File \u001b[1;32mc:\\Users\\mohdf\\Anaconda3\\envs\\exp-tracking-env\\lib\\site-packages\\mlflow\\tracking\\_model_registry\\fluent.py:105\u001b[0m, in \u001b[0;36m_register_model\u001b[1;34m(model_uri, name, await_registration_for, tags, local_model_path)\u001b[0m\n\u001b[0;32m    103\u001b[0m source \u001b[39m=\u001b[39m model_uri\n\u001b[0;32m    104\u001b[0m \u001b[39mif\u001b[39;00m RunsArtifactRepository\u001b[39m.\u001b[39mis_runs_uri(model_uri):\n\u001b[1;32m--> 105\u001b[0m     source \u001b[39m=\u001b[39m RunsArtifactRepository\u001b[39m.\u001b[39;49mget_underlying_uri(model_uri)\n\u001b[0;32m    106\u001b[0m     (run_id, _) \u001b[39m=\u001b[39m RunsArtifactRepository\u001b[39m.\u001b[39mparse_runs_uri(model_uri)\n\u001b[0;32m    108\u001b[0m create_version_response \u001b[39m=\u001b[39m client\u001b[39m.\u001b[39m_create_model_version(\n\u001b[0;32m    109\u001b[0m     name\u001b[39m=\u001b[39mname,\n\u001b[0;32m    110\u001b[0m     source\u001b[39m=\u001b[39msource,\n\u001b[1;32m   (...)\u001b[0m\n\u001b[0;32m    114\u001b[0m     local_model_path\u001b[39m=\u001b[39mlocal_model_path,\n\u001b[0;32m    115\u001b[0m )\n",
      "File \u001b[1;32mc:\\Users\\mohdf\\Anaconda3\\envs\\exp-tracking-env\\lib\\site-packages\\mlflow\\store\\artifact\\runs_artifact_repo.py:39\u001b[0m, in \u001b[0;36mRunsArtifactRepository.get_underlying_uri\u001b[1;34m(runs_uri)\u001b[0m\n\u001b[0;32m     37\u001b[0m (run_id, artifact_path) \u001b[39m=\u001b[39m RunsArtifactRepository\u001b[39m.\u001b[39mparse_runs_uri(runs_uri)\n\u001b[0;32m     38\u001b[0m tracking_uri \u001b[39m=\u001b[39m get_databricks_profile_uri_from_artifact_uri(runs_uri)\n\u001b[1;32m---> 39\u001b[0m uri \u001b[39m=\u001b[39m get_artifact_uri(run_id, artifact_path, tracking_uri)\n\u001b[0;32m     40\u001b[0m \u001b[39massert\u001b[39;00m \u001b[39mnot\u001b[39;00m RunsArtifactRepository\u001b[39m.\u001b[39mis_runs_uri(uri)  \u001b[39m# avoid an infinite loop\u001b[39;00m\n\u001b[0;32m     41\u001b[0m \u001b[39mreturn\u001b[39;00m add_databricks_profile_info_to_artifact_uri(uri, tracking_uri)\n",
      "File \u001b[1;32mc:\\Users\\mohdf\\Anaconda3\\envs\\exp-tracking-env\\lib\\site-packages\\mlflow\\tracking\\artifact_utils.py:47\u001b[0m, in \u001b[0;36mget_artifact_uri\u001b[1;34m(run_id, artifact_path, tracking_uri)\u001b[0m\n\u001b[0;32m     41\u001b[0m     \u001b[39mraise\u001b[39;00m MlflowException(\n\u001b[0;32m     42\u001b[0m         message\u001b[39m=\u001b[39m\u001b[39m\"\u001b[39m\u001b[39mA run_id must be specified in order to obtain an artifact uri!\u001b[39m\u001b[39m\"\u001b[39m,\n\u001b[0;32m     43\u001b[0m         error_code\u001b[39m=\u001b[39mINVALID_PARAMETER_VALUE,\n\u001b[0;32m     44\u001b[0m     )\n\u001b[0;32m     46\u001b[0m store \u001b[39m=\u001b[39m _get_store(tracking_uri)\n\u001b[1;32m---> 47\u001b[0m run \u001b[39m=\u001b[39m store\u001b[39m.\u001b[39;49mget_run(run_id)\n\u001b[0;32m     48\u001b[0m \u001b[39m# Maybe move this method to RunsArtifactRepository so the circular dependency is clearer.\u001b[39;00m\n\u001b[0;32m     49\u001b[0m \u001b[39massert\u001b[39;00m urllib\u001b[39m.\u001b[39mparse\u001b[39m.\u001b[39murlparse(run\u001b[39m.\u001b[39minfo\u001b[39m.\u001b[39martifact_uri)\u001b[39m.\u001b[39mscheme \u001b[39m!=\u001b[39m \u001b[39m\"\u001b[39m\u001b[39mruns\u001b[39m\u001b[39m\"\u001b[39m  \u001b[39m# avoid an infinite loop\u001b[39;00m\n",
      "File \u001b[1;32mc:\\Users\\mohdf\\Anaconda3\\envs\\exp-tracking-env\\lib\\site-packages\\mlflow\\store\\tracking\\rest_store.py:137\u001b[0m, in \u001b[0;36mRestStore.get_run\u001b[1;34m(self, run_id)\u001b[0m\n\u001b[0;32m    129\u001b[0m \u001b[39m\u001b[39m\u001b[39m\"\"\"\u001b[39;00m\n\u001b[0;32m    130\u001b[0m \u001b[39mFetch the run from backend store\u001b[39;00m\n\u001b[0;32m    131\u001b[0m \n\u001b[1;32m   (...)\u001b[0m\n\u001b[0;32m    134\u001b[0m \u001b[39m:return: A single Run object if it exists, otherwise raises an Exception\u001b[39;00m\n\u001b[0;32m    135\u001b[0m \u001b[39m\"\"\"\u001b[39;00m\n\u001b[0;32m    136\u001b[0m req_body \u001b[39m=\u001b[39m message_to_json(GetRun(run_uuid\u001b[39m=\u001b[39mrun_id, run_id\u001b[39m=\u001b[39mrun_id))\n\u001b[1;32m--> 137\u001b[0m response_proto \u001b[39m=\u001b[39m \u001b[39mself\u001b[39;49m\u001b[39m.\u001b[39;49m_call_endpoint(GetRun, req_body)\n\u001b[0;32m    138\u001b[0m \u001b[39mreturn\u001b[39;00m Run\u001b[39m.\u001b[39mfrom_proto(response_proto\u001b[39m.\u001b[39mrun)\n",
      "File \u001b[1;32mc:\\Users\\mohdf\\Anaconda3\\envs\\exp-tracking-env\\lib\\site-packages\\mlflow\\store\\tracking\\rest_store.py:59\u001b[0m, in \u001b[0;36mRestStore._call_endpoint\u001b[1;34m(self, api, json_body)\u001b[0m\n\u001b[0;32m     57\u001b[0m endpoint, method \u001b[39m=\u001b[39m _METHOD_TO_INFO[api]\n\u001b[0;32m     58\u001b[0m response_proto \u001b[39m=\u001b[39m api\u001b[39m.\u001b[39mResponse()\n\u001b[1;32m---> 59\u001b[0m \u001b[39mreturn\u001b[39;00m call_endpoint(\u001b[39mself\u001b[39;49m\u001b[39m.\u001b[39;49mget_host_creds(), endpoint, method, json_body, response_proto)\n",
      "File \u001b[1;32mc:\\Users\\mohdf\\Anaconda3\\envs\\exp-tracking-env\\lib\\site-packages\\mlflow\\utils\\rest_utils.py:202\u001b[0m, in \u001b[0;36mcall_endpoint\u001b[1;34m(host_creds, endpoint, method, json_body, response_proto, extra_headers)\u001b[0m\n\u001b[0;32m    200\u001b[0m     call_kwargs[\u001b[39m\"\u001b[39m\u001b[39mjson\u001b[39m\u001b[39m\"\u001b[39m] \u001b[39m=\u001b[39m json_body\n\u001b[0;32m    201\u001b[0m     response \u001b[39m=\u001b[39m http_request(\u001b[39m*\u001b[39m\u001b[39m*\u001b[39mcall_kwargs)\n\u001b[1;32m--> 202\u001b[0m response \u001b[39m=\u001b[39m verify_rest_response(response, endpoint)\n\u001b[0;32m    203\u001b[0m js_dict \u001b[39m=\u001b[39m json\u001b[39m.\u001b[39mloads(response\u001b[39m.\u001b[39mtext)\n\u001b[0;32m    204\u001b[0m parse_dict(js_dict\u001b[39m=\u001b[39mjs_dict, message\u001b[39m=\u001b[39mresponse_proto)\n",
      "File \u001b[1;32mc:\\Users\\mohdf\\Anaconda3\\envs\\exp-tracking-env\\lib\\site-packages\\mlflow\\utils\\rest_utils.py:134\u001b[0m, in \u001b[0;36mverify_rest_response\u001b[1;34m(response, endpoint)\u001b[0m\n\u001b[0;32m    132\u001b[0m \u001b[39mif\u001b[39;00m response\u001b[39m.\u001b[39mstatus_code \u001b[39m!=\u001b[39m \u001b[39m200\u001b[39m:\n\u001b[0;32m    133\u001b[0m     \u001b[39mif\u001b[39;00m _can_parse_as_json_object(response\u001b[39m.\u001b[39mtext):\n\u001b[1;32m--> 134\u001b[0m         \u001b[39mraise\u001b[39;00m RestException(json\u001b[39m.\u001b[39mloads(response\u001b[39m.\u001b[39mtext))\n\u001b[0;32m    135\u001b[0m     \u001b[39melse\u001b[39;00m:\n\u001b[0;32m    136\u001b[0m         base_msg \u001b[39m=\u001b[39m (\n\u001b[0;32m    137\u001b[0m             \u001b[39mf\u001b[39m\u001b[39m\"\u001b[39m\u001b[39mAPI request to endpoint \u001b[39m\u001b[39m{\u001b[39;00mendpoint\u001b[39m}\u001b[39;00m\u001b[39m \u001b[39m\u001b[39m\"\u001b[39m\n\u001b[0;32m    138\u001b[0m             \u001b[39mf\u001b[39m\u001b[39m\"\u001b[39m\u001b[39mfailed with error code \u001b[39m\u001b[39m{\u001b[39;00mresponse\u001b[39m.\u001b[39mstatus_code\u001b[39m}\u001b[39;00m\u001b[39m != 200\u001b[39m\u001b[39m\"\u001b[39m\n\u001b[0;32m    139\u001b[0m         )\n",
      "\u001b[1;31mRestException\u001b[0m: RESOURCE_DOES_NOT_EXIST: Run with id=<Run: data=<RunData: metrics={'accuracy': 0.96}, params={'C': '0.1', 'random_state': '42'}, tags={'mlflow.log-model.history': '[{\"run_id\": \"b582972ba9ee4b749494d65d96190186\", '                             '\"artifact_path\": \"models\", \"utc_time_created\": '                             '\"2023-11-05 12:50:26.398302\", \"flavors\": '                             '{\"python_function\": {\"model_path\": \"model.pkl\", '                             '\"predict_fn\": \"predict\", \"loader_module\": '                             '\"mlflow.sklearn\", \"python_version\": \"3.9.18\", '                             '\"env\": {\"conda\": \"conda.yaml\", \"virtualenv\": '                             '\"python_env.yaml\"}}, \"sklearn\": '                             '{\"pickled_model\": \"model.pkl\", '                             '\"sklearn_version\": \"1.3.1\", '                             '\"serialization_format\": \"cloudpickle\", \"code\": '                             'null}}, \"model_uuid\": '                             '\"dcad6c017ce24558aef7bdbd7ec6e14f\", '                             '\"mlflow_version\": \"2.7.1\"}]', 'mlflow.runName': 'thundering-duck-407', 'mlflow.source.name': 'c:\\\\Users\\\\mohdf\\\\Anaconda3\\\\envs\\\\exp-tracking-env\\\\lib\\\\site-packages\\\\ipykernel_launcher.py', 'mlflow.source.type': 'LOCAL', 'mlflow.user': 'mohdf'}>, info=<RunInfo: artifact_uri='mlflow-artifacts: not found"
     ]
    }
   ],
   "source": [
    "#registring one model\n",
    "\n",
    "\n",
    "#run_id = client.search_runs(experiment_id = '1')[0].run_id\n",
    "run_id = client.search_runs(experiment_ids = '1')[0]\n",
    "mlflow.register_model(\n",
    "    model_uri = f\"runs:/{run_id}/models\",\n",
    "    name = \"iris-classifier\"\n",
    ")\n",
    "#print(run_id)"
   ]
  },
  {
   "cell_type": "code",
   "execution_count": null,
   "metadata": {},
   "outputs": [],
   "source": []
  },
  {
   "cell_type": "code",
   "execution_count": null,
   "metadata": {},
   "outputs": [],
   "source": []
  }
 ],
 "metadata": {
  "kernelspec": {
   "display_name": "exp-tracking-env",
   "language": "python",
   "name": "python3"
  },
  "language_info": {
   "codemirror_mode": {
    "name": "ipython",
    "version": 3
   },
   "file_extension": ".py",
   "mimetype": "text/x-python",
   "name": "python",
   "nbconvert_exporter": "python",
   "pygments_lexer": "ipython3",
   "version": "3.9.18"
  }
 },
 "nbformat": 4,
 "nbformat_minor": 2
}
