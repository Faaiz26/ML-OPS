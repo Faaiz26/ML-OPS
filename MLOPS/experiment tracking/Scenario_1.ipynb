{
 "cells": [
  {
   "cell_type": "markdown",
   "metadata": {},
   "source": [
    "Lets consider 3 Scenarios:\n",
    "1. A single data scientist participating in an ML competition\n",
    "2. A cross-functional team with one data scientist working on ML model.\n",
    "3. Multiple data scientist working on multiple ML model.\n"
   ]
  },
  {
   "cell_type": "markdown",
   "metadata": {},
   "source": [
    "ML Flow Setup:\n",
    "a. Tracking server : no\n",
    "b. Backend store : local file system\n",
    "c. Artifacts store : local file system\n",
    "\n",
    "This experiment can be explored locally by launching ML flow UI/"
   ]
  },
  {
   "cell_type": "code",
   "execution_count": 1,
   "metadata": {},
   "outputs": [],
   "source": [
    "import mlflow"
   ]
  },
  {
   "cell_type": "code",
   "execution_count": 2,
   "metadata": {},
   "outputs": [
    {
     "name": "stdout",
     "output_type": "stream",
     "text": [
      "tracking uri : 'file:///c:/Users/mohdf/Anaconda3/envs/MLOPS/experiment%20tracking/mlruns'\n"
     ]
    }
   ],
   "source": [
    "print(f\"tracking uri : '{mlflow.get_tracking_uri()}'\")  #by default mlflow will asume that we want to use local file system to store artifacts, runs etc.\n",
    "\n"
   ]
  },
  {
   "cell_type": "code",
   "execution_count": 4,
   "metadata": {},
   "outputs": [
    {
     "data": {
      "text/plain": [
       "[<Experiment: artifact_location='file:///c:/Users/mohdf/Anaconda3/envs/MLOPS/experiment%20tracking/mlruns/0', creation_time=1698930530260, experiment_id='0', last_update_time=1698930530260, lifecycle_stage='active', name='Default', tags={}>]"
      ]
     },
     "execution_count": 4,
     "metadata": {},
     "output_type": "execute_result"
    }
   ],
   "source": [
    "mlflow.search_experiments()"
   ]
  },
  {
   "cell_type": "markdown",
   "metadata": {},
   "source": [
    "Creating an experiment and logging a new run"
   ]
  },
  {
   "cell_type": "code",
   "execution_count": 6,
   "metadata": {},
   "outputs": [
    {
     "name": "stdout",
     "output_type": "stream",
     "text": [
      "default artifacts URI : 'file:///c:/Users/mohdf/Anaconda3/envs/MLOPS/experiment%20tracking/mlruns/253996376886674162/38bc0e88fde643b5aed107b3d003955f/artifacts'\n"
     ]
    }
   ],
   "source": [
    "from sklearn.linear_model import LogisticRegression\n",
    "from sklearn.datasets import load_iris\n",
    "from sklearn.metrics import accuracy_score\n",
    "\n",
    "\n",
    "mlflow.set_experiment(\"my-experiment-1\")\n",
    "\n",
    "with mlflow.start_run():\n",
    "    X,y = load_iris(return_X_y = True)\n",
    "\n",
    "    params = {\"C\":0.1, \"random_state\": 42}\n",
    "    mlflow.log_params(params)\n",
    "\n",
    "    lr = LogisticRegression(**params).fit(X,y)\n",
    "    y_pred = lr.predict(X)\n",
    "\n",
    "    mlflow.log_metric(\"accuracy\", accuracy_score(y,y_pred))\n",
    "\n",
    "    mlflow.sklearn.log_model(lr,artifact_path = 'models')\n",
    "\n",
    "    print(f\"default artifacts URI : '{mlflow.get_artifact_uri()}'\")\n",
    "\n"
   ]
  },
  {
   "cell_type": "code",
   "execution_count": 7,
   "metadata": {},
   "outputs": [
    {
     "data": {
      "text/plain": [
       "[<Experiment: artifact_location='file:///c:/Users/mohdf/Anaconda3/envs/MLOPS/experiment%20tracking/mlruns/253996376886674162', creation_time=1698931921175, experiment_id='253996376886674162', last_update_time=1698931921175, lifecycle_stage='active', name='my-experiment-1', tags={}>,\n",
       " <Experiment: artifact_location='file:///c:/Users/mohdf/Anaconda3/envs/MLOPS/experiment%20tracking/mlruns/0', creation_time=1698930530260, experiment_id='0', last_update_time=1698930530260, lifecycle_stage='active', name='Default', tags={}>]"
      ]
     },
     "execution_count": 7,
     "metadata": {},
     "output_type": "execute_result"
    }
   ],
   "source": [
    "mlflow.search_experiments()"
   ]
  },
  {
   "cell_type": "markdown",
   "metadata": {},
   "source": [
    "Interacting with Model Registry"
   ]
  },
  {
   "cell_type": "code",
   "execution_count": 10,
   "metadata": {},
   "outputs": [],
   "source": [
    "from mlflow.tracking.client import MlflowClient\n",
    "\n",
    "client = MlflowClient()"
   ]
  },
  {
   "cell_type": "code",
   "execution_count": 11,
   "metadata": {},
   "outputs": [
    {
     "name": "stdout",
     "output_type": "stream",
     "text": [
      "It is not possible to access the model registry :(\n"
     ]
    }
   ],
   "source": [
    "from mlflow.exceptions import MlflowException\n",
    "\n",
    "try:\n",
    "    client.list_registered_models()\n",
    "except:\n",
    "    print(\"It is not possible to access the model registry :(, while using local file system for the artifacts and the back-end store\")\n",
    "\n",
    "    \n"
   ]
  }
 ],
 "metadata": {
  "kernelspec": {
   "display_name": "exp-tracking-env",
   "language": "python",
   "name": "python3"
  },
  "language_info": {
   "codemirror_mode": {
    "name": "ipython",
    "version": 3
   },
   "file_extension": ".py",
   "mimetype": "text/x-python",
   "name": "python",
   "nbconvert_exporter": "python",
   "pygments_lexer": "ipython3",
   "version": "3.9.18"
  }
 },
 "nbformat": 4,
 "nbformat_minor": 2
}
